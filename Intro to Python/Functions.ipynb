{
 "cells": [
  {
   "cell_type": "markdown",
   "id": "b982beb4-2b89-4a10-a7c6-d30b76ce8ae8",
   "metadata": {},
   "source": [
    "# Functions"
   ]
  },
  {
   "cell_type": "markdown",
   "id": "11f03c1c-24e9-45a6-8d8b-12bc04906dc6",
   "metadata": {},
   "source": [
    "Fungsi pada bahasa pemrograman Python adalah kumpulan perintah atau baris kode yang dikelompokkan menjadi satu kesatuan. Fungsi ini dapat dipanggil atau digunakan berkali-kali."
   ]
  },
  {
   "cell_type": "markdown",
   "id": "630726b5-2962-44f5-96aa-633c8d94254b",
   "metadata": {},
   "source": [
    "## Point of Functions"
   ]
  },
  {
   "cell_type": "markdown",
   "id": "09faad01-0b41-482e-bb74-b56b0163aa67",
   "metadata": {},
   "source": [
    "1. Kemampuan Menerima Parameter:\n",
    "   - Fungsi dapat menerima parameter (nilai atau variabel) yang akan diproses lebih lanjut.\n",
    "   - Parameter ini memungkinkan kita untuk mengirim data ke dalam fungsi.\n",
    "2. Kemampuan Mengembalikan Nilai:\n",
    "   - Fungsi dapat mengembalikan nilai setelah dieksekusi.\n",
    "   - Kata kunci return digunakan untuk mengeluarkan nilai dari fungsi.\n",
    "3. Struktur Sintaks Fungsi:\n",
    "   - Fungsi didefinisikan dengan menggunakan kata kunci def.\n",
    "   - Berikut adalah sintaks umum pembuatan fungsi:"
   ]
  },
  {
   "cell_type": "code",
   "execution_count": null,
   "id": "c2ec9bbb-8383-41a1-a97e-67052f05330a",
   "metadata": {},
   "outputs": [],
   "source": [
    "# Define the function\n",
    "def add_three(input_var):\n",
    "    output_var = input_var + 3\n",
    "    return output_var"
   ]
  },
  {
   "cell_type": "markdown",
   "id": "2c136f32-8da7-4803-9d83-1ce36234f9a0",
   "metadata": {},
   "source": [
    "Fungsi terbagi menjadi 2 bagian yaitu Header dan Body"
   ]
  },
  {
   "cell_type": "markdown",
   "id": "561a91f9-f401-4c78-8cc7-03721cc0ad58",
   "metadata": {},
   "source": [
    "### Header"
   ]
  },
  {
   "cell_type": "markdown",
   "id": "c1ca47de-b491-4f42-a0a4-aa5015f190c8",
   "metadata": {},
   "source": [
    "Header fungsi mendefinisikan nama fungsi dan argumen-argumennya.\n",
    "\n",
    "- Setiap header fungsi dimulai dengan def, yang memberitahu Python bahwa kita akan mendefinisikan sebuah fungsi.\n",
    "- Pada contoh ini, nama fungsi adalah add_three.\n",
    "- Pada contoh ini, argumen adalah input_var. Argumen ini adalah nama variabel yang akan digunakan sebagai input untuk fungsi. Argumen selalu diapit oleh tanda kurung yang muncul tepat setelah nama fungsi. (Perlu dicatat bahwa sebuah fungsi juga bisa tidak memiliki argumen, atau memiliki beberapa argumen. Anda akan melihat beberapa contoh ini nanti dalam pelajaran.)\n",
    "- Untuk setiap fungsi, tanda kurung yang mengapit argumen-argumen fungsi harus diikuti oleh titik dua : ."
   ]
  },
  {
   "cell_type": "markdown",
   "id": "7ae61770-4308-4d85-85c5-4453f3511511",
   "metadata": {},
   "source": [
    "### Body"
   ]
  },
  {
   "cell_type": "markdown",
   "id": "d525a610-1b6b-4fd2-a815-fb7335b6431a",
   "metadata": {},
   "source": [
    "Badan fungsi menentukan pekerjaan yang dilakukan fungsi.\n",
    "\n",
    "- Setiap baris kode dalam badan fungsi harus diberi indentasi tepat empat spasi. Anda dapat melakukannya dengan menekan tombol spasi empat kali, atau dengan menekan tombol “Tab” sekali pada keyboard Anda. (Ketika Anda mempelajari lebih lanjut tentang Python, Anda mungkin perlu memberi indentasi kode Anda lebih dari empat spasi, tetapi Anda akan mempelajari lebih lanjut tentang hal itu nanti dalam kursus ini.)\n",
    "- Fungsi melakukan pekerjaannya dengan menjalankan semua baris yang diberi indentasi dari atas ke bawah.\n",
    "  - Fungsi mengambil argumen sebagai input, yang dalam contoh ini adalah input_var.\n",
    "  - Fungsi membuat variabel baru output_var dengan perhitungan output_var = input_var + 3.\n",
    "  - Kemudian, baris kode terakhir, yang disebut pernyataan return, mengembalikan nilai di output_var sebagai output dari fungsi\n",
    "\n",
    "sebagai output dari fungsi. Sel kode di atas hanya mendefinisikan fungsi, tetapi tidak menjalankannya. Rincian dari badan fungsi akan lebih masuk akal setelah sel kode berikutnya, ketika kita benar-benar menjalankan fungsi tersebut."
   ]
  },
  {
   "cell_type": "markdown",
   "id": "d71c9ef3-fab2-4143-a4d8-20793c303847",
   "metadata": {},
   "source": [
    "## How to run or \"call\" a function"
   ]
  },
  {
   "cell_type": "markdown",
   "id": "d7ffbe4d-d231-41cb-a57d-a71c59f596aa",
   "metadata": {},
   "source": [
    "Ketika kita menjalankan sebuah fungsi, kita juga dapat menyebutnya sebagai “memanggil” fungsi.\n",
    "\n",
    "Pada sel kode di bawah ini, kita menjalankan fungsi dengan nilai input 10. Kita mendefinisikan variabel baru new_number yang diisi dengan hasil dari fungsi tersebut.\n",
    "\n",
    "Contoh:"
   ]
  },
  {
   "cell_type": "code",
   "execution_count": 28,
   "id": "f259e1c0-29a4-42ce-abf0-6487acdd0e94",
   "metadata": {},
   "outputs": [
    {
     "name": "stdout",
     "output_type": "stream",
     "text": [
      "13\n"
     ]
    }
   ],
   "source": [
    "# Run the function with 10 as input\n",
    "new_number = add_three(10)\n",
    "\n",
    "# Check that the value is 13, as expected\n",
    "print(new_number)"
   ]
  },
  {
   "cell_type": "markdown",
   "id": "4ab52dec-63ef-4bb2-81fc-95257d52ffb8",
   "metadata": {},
   "source": [
    "Secara lebih rinci,Secara lebih rinci,\n",
    "\n",
    "add_three(10) adalah nilai yang kita dapatkan sebagai output ketika kita memberikan nilai 10 sebagai input_var dan memanggil fungsi add_three(). Ketika fungsi dijalankan, semua kode dalam badan fungsi dieksekusi dari atas ke bawah:\n",
    "- Pertama, menghitung output_var = input_var + 3, sehingga output_var = 13.\n",
    "- Baris kode terakhir adalah pernyataan return, yang mengembalikan nilai dari output_var, yaitu 13. Dengan mengatur new_number = add_three(10), kita menginisialisasi new_number = 13.\n",
    "  \n",
    "Catatan: Ketika kita secara santai merujuk pada fungsi add_three() dalam tutorial ini, kita menggunakan tanda kurung penutup kosong setelah nama fungsi. Ini sesuai dengan cara orang umumnya menulis penjelasan kode Python, dan tanda kurung kosong hanya memastikan bahwa kita merujuk pada sebuah fungsi, bukan variabel atau objek Python lainnya. Tanda kurung ini harus selalu kosong, bahkan jika fungsi memiliki argumen."
   ]
  },
  {
   "cell_type": "markdown",
   "id": "af4f3fe4-d4a7-4362-8d79-2bdd7a811998",
   "metadata": {},
   "source": [
    "## Naming function"
   ]
  },
  {
   "cell_type": "markdown",
   "id": "00335409-6c11-4dbb-b1d2-ccc9ac794da1",
   "metadata": {},
   "source": [
    "Dalam contoh di atas, nama fungsi dipilihkan untuk Anda. Saat menamai fungsi Anda sendiri, Anda harus menggunakan huruf kecil saja, dengan kata-kata dipisahkan oleh garis bawah bukan spasi.\n",
    "\n",
    "Memberi nama fungsi akan terasa alami seiring waktu, dan wajar jika awalnya terasa tidak nyaman. Cara terbaik untuk belajar adalah dengan melihat banyak kode Python."
   ]
  },
  {
   "cell_type": "markdown",
   "id": "12f7987b-f118-47fd-be4b-4b4d1c8bd1c5",
   "metadata": {},
   "source": [
    "## A more complex example"
   ]
  },
  {
   "cell_type": "markdown",
   "id": "4f2bd7ce-04d4-4369-a907-ad26a5e386c5",
   "metadata": {},
   "source": [
    "Sekarang setelah Anda memahami dasar-dasarnya, kita dapat beralih ke contoh dengan perhitungan yang lebih panjang.\n",
    "\n",
    "Katakanlah Anda sedang membantu seorang teman untuk menghitung gaji mingguannya setelah pajak.\n",
    "\n",
    "- Mereka berada dalam kelompok pajak 12% (dengan kata lain, 12% dari gaji mereka diambil untuk pajak, dan mereka hanya membawa pulang 88%), dan\n",
    "- Mereka dibayar per jam, dengan tarif $15/jam.\n",
    "\n",
    "Fungsi di bawah ini menghitung gaji berdasarkan jumlah jam kerja. Fungsi ini lebih rumit daripada contoh pertama, karena fungsi ini memiliki lebih banyak baris kode dan komentar. Serupa dengan contoh di atas, fungsi ini memiliki satu argumen (num_hours). Di dalam tubuh fungsi, kita:\n",
    "- Menggunakan nilai num_hours untuk menentukan nilai variabel baru pay_pretax.\n",
    "- Menggunakan nilai pay_pretax untuk menentukan nilai variabel baru pay_aftertax.\n",
    "- Mengembalikan nilai variabel pay_aftertax."
   ]
  },
  {
   "cell_type": "code",
   "execution_count": 29,
   "id": "5b82d1e6-1697-43f9-a855-82a7dc56dc46",
   "metadata": {},
   "outputs": [],
   "source": [
    "def get_pay(num_hours):\n",
    "    # Pre-tax pay, based on receiving $15/hour\n",
    "    pay_pretax = num_hours * 15\n",
    "    # After-tax pay, based on being in 12% tax bracket\n",
    "    pay_aftertax = pay_pretax * (1 - .12)\n",
    "    return pay_aftertax"
   ]
  },
  {
   "cell_type": "markdown",
   "id": "4670b608-bc38-4d17-a20c-67e627e58bb2",
   "metadata": {},
   "source": [
    "Kita memanggil fungsi ini dengan cara yang sama seperti kita memanggil fungsi pertama. Sel berikutnya menghitung gaji berdasarkan bekerja 40 jam. (Setelah pajak, jumlahnya adalah $528.)"
   ]
  },
  {
   "cell_type": "code",
   "execution_count": 30,
   "id": "9666d70a-0af4-49f8-b8a0-ec45317fe7ad",
   "metadata": {},
   "outputs": [
    {
     "name": "stdout",
     "output_type": "stream",
     "text": [
      "528.0\n"
     ]
    }
   ],
   "source": [
    "# Calculate pay based on working 40 hours\n",
    "pay_fulltime = get_pay(40)\n",
    "print(pay_fulltime)"
   ]
  },
  {
   "cell_type": "markdown",
   "id": "fcbe7138-28a9-4d44-bf11-9cff9640493d",
   "metadata": {},
   "source": [
    "Untuk menghitung gaji dengan cepat berdasarkan jumlah jam kerja yang berbeda, Anda perlu memberikan fungsi tersebut dengan angka yang berbeda. Sebagai contoh, katakanlah teman Anda bekerja 32 jam. (Maka, mereka mendapatkan $422.40.)"
   ]
  },
  {
   "cell_type": "code",
   "execution_count": 31,
   "id": "e8829b05-8bf7-4621-9a4d-7bebb52e2e23",
   "metadata": {},
   "outputs": [
    {
     "name": "stdout",
     "output_type": "stream",
     "text": [
      "422.4\n"
     ]
    }
   ],
   "source": [
    "pay_parttime = get_pay(32)\n",
    "print(pay_parttime)"
   ]
  },
  {
   "cell_type": "markdown",
   "id": "1c6b0a1d-2e09-45e7-bba8-0584db9c8af1",
   "metadata": {},
   "source": [
    "Karena Anda menulis sebuah fungsi, Anda dapat menghitung gaji untuk jam kerja yang berbeda tanpa harus menulis ulang semua kode dalam perhitungan itu lagi dan lagi.\n",
    "\n",
    "Fungsi dapat membantu Anda menghindari kesalahan dalam kode Anda, dan Anda menghemat banyak waktu. Secara umum, saat coding, Anda harus berusaha menulis sesedikit mungkin, karena setiap kali Anda mengetik perhitungan, itu adalah kesempatan lain untuk secara tidak sengaja memperkenalkan kesalahan ketik atau kesalahan."
   ]
  },
  {
   "cell_type": "markdown",
   "id": "0b760285-e612-4610-8635-0fd0e5d74212",
   "metadata": {},
   "source": [
    "## Variable \"scope\""
   ]
  },
  {
   "cell_type": "markdown",
   "id": "0372f5d8-24e4-4769-9c20-3384983c5263",
   "metadata": {},
   "source": [
    "Variabel yang didefinisikan di dalam tubuh fungsi tidak dapat diakses di luar fungsi. Sebagai contoh, sel kode berikutnya akan error, karena pay_aftertax hanya ada di dalam fungsi."
   ]
  },
  {
   "cell_type": "code",
   "execution_count": 32,
   "id": "85fe402f-008f-4835-8dda-a2533457eb7a",
   "metadata": {},
   "outputs": [
    {
     "ename": "NameError",
     "evalue": "name 'pay_aftertax' is not defined",
     "output_type": "error",
     "traceback": [
      "\u001b[1;31m---------------------------------------------------------------------------\u001b[0m",
      "\u001b[1;31mNameError\u001b[0m                                 Traceback (most recent call last)",
      "Cell \u001b[1;32mIn[32], line 1\u001b[0m\n\u001b[1;32m----> 1\u001b[0m \u001b[38;5;28mprint\u001b[39m(\u001b[43mpay_aftertax\u001b[49m)\n",
      "\u001b[1;31mNameError\u001b[0m: name 'pay_aftertax' is not defined"
     ]
    }
   ],
   "source": [
    "print(pay_aftertax)"
   ]
  },
  {
   "cell_type": "markdown",
   "id": "6990159e-d83d-4e61-b5dc-9affa0dc2700",
   "metadata": {},
   "source": [
    "Anda akan mendapatkan kesalahan yang sama jika Anda mencoba mencetak pay_pretax atau num_hours. Untuk alasan ini, jika Anda memerlukan informasi apa pun dari sebuah fungsi, Anda perlu memastikan bahwa informasi tersebut muncul dalam pernyataan return di akhir fungsi.\n",
    "\n",
    "Kita menyebut cakupan variabel sebagai bagian dari kode di mana variabel tersebut dapat diakses. Variabel yang didefinisikan di dalam sebuah fungsi (seperti pay_aftertax) hanya memiliki cakupan lokal dari fungsi tersebut saja. Namun, seperti yang telah Anda lihat, variabel yang didefinisikan di luar semua fungsi (seperti pay_parttime) memiliki cakupan global dan dapat diakses di mana saja."
   ]
  },
  {
   "cell_type": "markdown",
   "id": "acc6fe99-bbe0-4f31-b1e3-833a5f68572c",
   "metadata": {},
   "source": [
    "## Functions with multiple arguments"
   ]
  },
  {
   "cell_type": "markdown",
   "id": "0df8dd88-f14e-43fb-96fc-35f11ddad372",
   "metadata": {},
   "source": [
    "Sejauh ini, Anda telah belajar bagaimana mendefinisikan sebuah fungsi dengan hanya satu argumen. Untuk mendefinisikan sebuah fungsi dengan beberapa argumen, Anda hanya perlu menambahkan lebih banyak argumen di dalam tanda kurung pada kepala fungsi dan memisahkannya dengan koma.\n",
    "\n",
    "Kita lakukan ini dengan fungsi get_pay_with_more_inputs() di bawah ini, yang menghitung gaji mingguan berdasarkan tiga argumen:\n",
    "- num_hours - jumlah jam kerja dalam satu minggu\n",
    "- hourly_wage - upah per jam (dalam $/jam)\n",
    "- tax_bracket - persentase gaji Anda yang diambil untuk pajak"
   ]
  },
  {
   "cell_type": "code",
   "execution_count": null,
   "id": "137e99e3-3aa2-4db1-921e-f87986fa69bd",
   "metadata": {},
   "outputs": [],
   "source": [
    "def get_pay_with_more_inputs(num_hours, hourly_wage, tax_bracket):\n",
    "    # Pre-tax pay\n",
    "    pay_pretax = num_hours * hourly_wage\n",
    "    # After-tax pay\n",
    "    pay_aftertax = pay_pretax * (1 - tax_bracket)\n",
    "    return pay_aftertax"
   ]
  },
  {
   "cell_type": "markdown",
   "id": "14de313f-5267-4999-8272-24e6f2adf672",
   "metadata": {},
   "source": []
  },
  {
   "cell_type": "markdown",
   "id": "86e4831b-6cc0-42b2-a017-6c12d296b124",
   "metadata": {},
   "source": [
    "## Function with no argumen"
   ]
  },
  {
   "cell_type": "markdown",
   "id": "938da26c-6880-401e-9600-86aa657f7396",
   "metadata": {},
   "source": [
    "Perhatikan bahwa dimungkinkan untuk mendefinisikan fungsi tanpa argumen, dan yang tidak memiliki pernyataan return. Fungsi print_hello() pada sel kode di bawah ini adalah contohnya."
   ]
  },
  {
   "cell_type": "code",
   "execution_count": 38,
   "id": "92930d4b-d84f-4734-bae0-d01c89561814",
   "metadata": {},
   "outputs": [
    {
     "name": "stdout",
     "output_type": "stream",
     "text": [
      "Hello, you!\n",
      "Good morning!\n"
     ]
    }
   ],
   "source": [
    "# Define the function with no arguments and with no return\n",
    "def print_hello():\n",
    "    print(\"Hello, you!\")\n",
    "    print(\"Good morning!\")\n",
    "    \n",
    "# Call the function\n",
    "print_hello()"
   ]
  },
  {
   "cell_type": "code",
   "execution_count": null,
   "id": "faab8881-23fa-4145-ab04-f21de5e45c1b",
   "metadata": {},
   "outputs": [],
   "source": []
  },
  {
   "cell_type": "markdown",
   "id": "20b8e7d2-10aa-47e0-b521-5fcf8946167b",
   "metadata": {},
   "source": [
    "## A Simple Example"
   ]
  },
  {
   "cell_type": "code",
   "execution_count": null,
   "id": "bfb3eaa6-b6e0-4ceb-853b-d4fff44e5d96",
   "metadata": {},
   "outputs": [],
   "source": [
    "# Menghitung luas persegi panjang dengan parameter panjang dan lebar\n",
    "def persegi_panjang(panjang, lebar):\n",
    "    luas = panjang * lebar\n",
    "    print(luas)\n",
    "\n",
    "# Panggil fungsi dengan memasukkan parameter\n",
    "persegi_panjang(50, 20)\n",
    "\n",
    "# Jika ingin kembali memanggil fungsi, panggil fungsi dengan memasukkan parameter yang berbeda\n",
    "persegi_panjang(500, 150)"
   ]
  }
 ],
 "metadata": {
  "kernelspec": {
   "display_name": "Python 3 (ipykernel)",
   "language": "python",
   "name": "python3"
  },
  "language_info": {
   "codemirror_mode": {
    "name": "ipython",
    "version": 3
   },
   "file_extension": ".py",
   "mimetype": "text/x-python",
   "name": "python",
   "nbconvert_exporter": "python",
   "pygments_lexer": "ipython3",
   "version": "3.11.8"
  }
 },
 "nbformat": 4,
 "nbformat_minor": 5
}
